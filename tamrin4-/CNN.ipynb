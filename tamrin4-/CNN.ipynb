{
 "cells": [
  {
   "cell_type": "code",
   "execution_count": 140,
   "id": "709e0262",
   "metadata": {},
   "outputs": [],
   "source": [
    "import torch\n",
    "import torch.nn as nn\n",
    "import torch.nn.functional as F\n",
    "import torch.optim as optim\n",
    "from torchvision import datasets, transforms, models\n",
    "from torch.utils.data import DataLoader\n",
    "import os\n",
    "import matplotlib.pyplot as plt"
   ]
  },
  {
   "cell_type": "code",
   "execution_count": 141,
   "id": "16a9affa",
   "metadata": {},
   "outputs": [],
   "source": [
    "import os\n",
    "import shutil\n",
    "import random\n",
    "\n",
    "def split_data(source_dir, train_dir, test_dir, test_size=0.2):\n",
    "    # پوشه‌های گربه و سگ\n",
    "    class_names = ['cat', 'dog']\n",
    "    \n",
    "    # ایجاد پوشه‌های train و test\n",
    "    os.makedirs(train_dir, exist_ok=True)\n",
    "    os.makedirs(test_dir, exist_ok=True)\n",
    "    \n",
    "    # تقسیم داده‌ها برای هر کلاس\n",
    "    for class_name in class_names:\n",
    "        class_dir = os.path.join(source_dir, class_name)\n",
    "        \n",
    "        # بررسی وجود پوشه\n",
    "        if not os.path.exists(class_dir):\n",
    "            print(f\"پوشه {class_name} در مسیر {source_dir} وجود ندارد.\")\n",
    "            continue\n",
    "        \n",
    "        files = os.listdir(class_dir)\n",
    "        random.shuffle(files)\n",
    "        \n",
    "        # تعداد داده‌ها برای تست\n",
    "        test_count = int(len(files) * test_size)\n",
    "        \n",
    "        # داده‌های تست و آموزش\n",
    "        test_files = files[:test_count]\n",
    "        train_files = files[test_count:]\n",
    "        \n",
    "        # ایجاد پوشه‌های مربوط به کلاس‌ها در پوشه‌های train و test\n",
    "        os.makedirs(os.path.join(train_dir, class_name), exist_ok=True)\n",
    "        os.makedirs(os.path.join(test_dir, class_name), exist_ok=True)\n",
    "        \n",
    "        # کپی داده‌ها به پوشه‌های مربوطه\n",
    "        for file_name in train_files:\n",
    "            shutil.copy(os.path.join(class_dir, file_name), os.path.join(train_dir, class_name, file_name))\n",
    "        for file_name in test_files:\n",
    "            shutil.copy(os.path.join(class_dir, file_name), os.path.join(test_dir, class_name, file_name))\n",
    "\n",
    "# مسیر اصلی داده‌ها\n",
    "source_dir = 'PetImages'  # مسیر داده‌ها باید درست باشد\n",
    "\n",
    "# مسیرهای داده‌های آموزش و تست\n",
    "train_dir = 'dataset/train'\n",
    "test_dir = 'dataset/test'\n",
    "\n",
    "# تقسیم داده‌ها به آموزش و تست\n",
    "split_data(source_dir, train_dir, test_dir, test_size=0.2)\n"
   ]
  },
  {
   "cell_type": "code",
   "execution_count": 139,
   "id": "aad8305c",
   "metadata": {},
   "outputs": [
    {
     "name": "stdout",
     "output_type": "stream",
     "text": [
      "Using device: cpu\n"
     ]
    }
   ],
   "source": [
    "#  تعیین device\n",
    "device = torch.device('cuda' if torch.cuda.is_available() else 'cpu')\n",
    "print(\"Using device:\", device)\n",
    "#  پیش‌پردازش تصاویر\n",
    "transform = transforms.Compose([\n",
    "    transforms.Resize((150, 150)),\n",
    "    transforms.ToTensor(),\n",
    "    transforms.Normalize(mean=[0.5, 0.5, 0.5], std=[0.5, 0.5, 0.5])\n",
    "])\n",
    "\n",
    "#  بارگذاری داده‌ها\n",
    "train_data = datasets.ImageFolder('dataset/train', transform=transform)\n",
    "test_data = datasets.ImageFolder('dataset/test', transform=transform)\n",
    "\n",
    "train_loader = DataLoader(train_data, batch_size=16, shuffle=True)\n",
    "test_loader = DataLoader(test_data, batch_size=16, shuffle=False)"
   ]
  },
  {
   "cell_type": "code",
   "execution_count": 143,
   "id": "8175e97d",
   "metadata": {},
   "outputs": [],
   "source": [
    "class CNNModel(nn.Module):\n",
    "    def __init__(self):\n",
    "        super(CNNModel, self).__init__()\n",
    "        self.conv1 = nn.Conv2d(3, 32, kernel_size=3, padding=1)\n",
    "        self.conv2 = nn.Conv2d(32, 64, kernel_size=3, padding=1)\n",
    "        self.conv3 = nn.Conv2d(64, 128, kernel_size=3, padding=1)\n",
    "        self.conv4 = nn.Conv2d(128, 128, kernel_size=3, padding=1)\n",
    "        self.conv5 = nn.Conv2d(128, 256, kernel_size=3, padding=1)\n",
    "        self.pool = nn.MaxPool2d(2, 2)\n",
    "        \n",
    "        # Fully Connected (Dense) layers\n",
    "        self.fc1 = nn.Linear(256 * 4 * 4, 512)\n",
    "        self.fc2 = nn.Linear(512, 128)\n",
    "        self.fc3 = nn.Linear(128, 2)  # 2 کلاس: سگ و گربه\n",
    "\n",
    "    def forward(self, x):\n",
    "        x = self.pool(F.relu(self.conv1(x)))  # -> [32, 75, 75]\n",
    "        x = self.pool(F.relu(self.conv2(x)))  # -> [64, 37, 37]\n",
    "        x = self.pool(F.relu(self.conv3(x)))  # -> [128, 18, 18]\n",
    "        x = self.pool(F.relu(self.conv4(x)))  # -> [256, 9, 9]\n",
    "        x = self.pool(F.relu(self.conv5(x)))  # -> [256, 5, 5]\n",
    "        x = x.view(x.size(0), -1)\n",
    "        x = F.relu(self.fc1(x))\n",
    "        x = F.relu(self.fc2(x))\n",
    "        x = self.fc3(x)  # بدون softmax (استفاده از CrossEntropy)\n",
    "        return x\n",
    "model = CNNModel()\n",
    "criterion = nn.CrossEntropyLoss()\n",
    "optimizer = optim.Adam(model.parameters(), lr=0.001)"
   ]
  },
  {
   "cell_type": "code",
   "execution_count": 144,
   "id": "068553b6",
   "metadata": {},
   "outputs": [
    {
     "name": "stdout",
     "output_type": "stream",
     "text": [
      "Epoch 1/0, Loss: 1020.9075, Accuracy: 60.11%\n",
      "Epoch 2/1, Loss: 763.5458, Accuracy: 76.60%\n",
      "Epoch 3/2, Loss: 583.2753, Accuracy: 83.25%\n",
      "Epoch 4/3, Loss: 452.0194, Accuracy: 87.71%\n",
      "Epoch 5/4, Loss: 369.8821, Accuracy: 90.10%\n"
     ]
    }
   ],
   "source": [
    "# حلقه آموزش\n",
    "for epoch in range(5):\n",
    "    model.train()\n",
    "    running_loss = 0.0\n",
    "    total = 0\n",
    "    correct = 0\n",
    "    for inputs, labels in train_loader:\n",
    "        inputs = inputs.to(device)\n",
    "        labels = labels.to(device)\n",
    "        outputs = model(inputs)\n",
    "\n",
    "        loss = criterion(outputs, labels)\n",
    "        \n",
    "        optimizer.zero_grad()\n",
    "        loss.backward()\n",
    "        optimizer.step()\n",
    "        running_loss += loss.item()\n",
    "        _, predicted = torch.max(outputs.data, 1)\n",
    "        total += labels.size(0)\n",
    "        correct += (predicted == labels).sum().item()\n",
    "\n",
    "    acc = 100 * correct / total\n",
    "    print(f\"Epoch {epoch+1}/{epoch}, Loss: {running_loss:.4f}, Accuracy: {acc:.2f}%\")\n"
   ]
  },
  {
   "cell_type": "code",
   "execution_count": 145,
   "id": "26e0dd0c",
   "metadata": {},
   "outputs": [
    {
     "name": "stdout",
     "output_type": "stream",
     "text": [
      "Test Accuracy: 93.16%\n"
     ]
    }
   ],
   "source": [
    "# 7. تست مدل\n",
    "model.eval()\n",
    "correct = 0\n",
    "total = 0\n",
    "with torch.no_grad():\n",
    "    for images, labels in test_loader:\n",
    "        images, labels = images.to(device), labels.to(device)\n",
    "        outputs = model(images)\n",
    "        _, predicted = torch.max(outputs.data, 1)\n",
    "        total += labels.size(0)\n",
    "        correct += (predicted == labels).sum().item()\n",
    "\n",
    "print(f\"Test Accuracy: {100 * correct / total:.2f}%\")"
   ]
  }
 ],
 "metadata": {
  "kernelspec": {
   "display_name": "Python 3",
   "language": "python",
   "name": "python3"
  },
  "language_info": {
   "codemirror_mode": {
    "name": "ipython",
    "version": 3
   },
   "file_extension": ".py",
   "mimetype": "text/x-python",
   "name": "python",
   "nbconvert_exporter": "python",
   "pygments_lexer": "ipython3",
   "version": "3.13.0"
  }
 },
 "nbformat": 4,
 "nbformat_minor": 5
}
